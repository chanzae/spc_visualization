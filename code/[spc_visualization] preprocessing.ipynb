{
 "cells": [
  {
   "cell_type": "markdown",
   "id": "b5c753e5",
   "metadata": {},
   "source": [
    "# 데이터 병합"
   ]
  },
  {
   "cell_type": "code",
   "execution_count": null,
   "id": "bbe1624a",
   "metadata": {},
   "outputs": [],
   "source": [
    "import glob\n",
    "\n",
    "path = \"c:\\\\spc\\\\*\"\n",
    "flist= glob.glob(path)\n",
    "flist_find = [file for file in flist if file.endswith(\"230222.csv\")]  # 수집날짜로 해당 데이터만 불러옴\n",
    "\n",
    "flist_find"
   ]
  },
  {
   "cell_type": "code",
   "execution_count": null,
   "id": "9208c6eb",
   "metadata": {},
   "outputs": [],
   "source": [
    "df = pd.DataFrame()\n",
    "\n",
    "for file in flist_find:\n",
    "    ftmp = pd.read_csv(file)\n",
    "    df = pd.concat([df,ftmp], axis = 0)\n",
    "\n",
    "df.head(10)"
   ]
  },
  {
   "cell_type": "code",
   "execution_count": null,
   "id": "8cf2e4c2",
   "metadata": {},
   "outputs": [],
   "source": [
    "df.to_csv(\"c:\\\\spc\\\\spclist_final_230222.csv\", index = False)"
   ]
  },
  {
   "cell_type": "markdown",
   "id": "131fcb01",
   "metadata": {},
   "source": [
    "# 데이터 삭제"
   ]
  },
  {
   "cell_type": "code",
   "execution_count": null,
   "id": "042d2cd8",
   "metadata": {},
   "outputs": [],
   "source": [
    "df['branch'] = df.branch.apply(lambda x: '' if x == '점' else x)"
   ]
  },
  {
   "cell_type": "code",
   "execution_count": null,
   "id": "61b0f0ab",
   "metadata": {},
   "outputs": [],
   "source": [
    "# 데이터 삭제\n",
    "df.drop([df[df.addr == '경남 창원시 의창구 대원동 121 1층'].index[0],df[df.branch == '창원반림일동'].index[0]], inplace = True)\n",
    "df.reset_index(drop = True, inplace = True)"
   ]
  },
  {
   "cell_type": "markdown",
   "id": "4ee54306",
   "metadata": {},
   "source": [
    "# Geocoding - naver api"
   ]
  },
  {
   "cell_type": "markdown",
   "id": "1ef3ddd0",
   "metadata": {},
   "source": [
    "## geocoding - 1차"
   ]
  },
  {
   "cell_type": "code",
   "execution_count": null,
   "id": "0176a8aa",
   "metadata": {},
   "outputs": [],
   "source": [
    "import requests\n",
    "from tqdm.notebook import tqdm\n",
    "\n",
    "client_id = \"insert your Id\"\n",
    "client_secret = \"insert your password\"\n",
    "\n",
    "def naver_geocoding(addr):\n",
    "\n",
    "    # 주소\n",
    "    query = addr\n",
    "\n",
    "    endpoint = \"https://naveropenapi.apigw.ntruss.com/map-geocode/v2/geocode\"\n",
    "    url = f\"{endpoint}?query={query}\"\n",
    "\n",
    "    # 헤더\n",
    "    headers = {\n",
    "        \"X-NCP-APIGW-API-KEY-ID\": client_id,\n",
    "        \"X-NCP-APIGW-API-KEY\": client_secret,\n",
    "    }\n",
    "\n",
    "    # 요청\n",
    "    res = requests.get(url, headers=headers)\n",
    "\n",
    "    sido = 0\n",
    "    sigugun = 0\n",
    "    dongmyun = 0\n",
    "    lat = 0\n",
    "    lng = 0\n",
    "    \n",
    "    if res.status_code == 200:\n",
    "        try:\n",
    "            data = res.json()\n",
    "            \n",
    "            sido = data['addresses'][0]['addressElements'][0]['longName']\n",
    "            sigugun = data['addresses'][0]['addressElements'][1]['longName']\n",
    "            dongmyun = data['addresses'][0]['addressElements'][2]['longName']\n",
    "            lat = data['addresses'][0]['y'] #위도\n",
    "            lng = data['addresses'][0]['x'] #경도\n",
    "        except:\n",
    "            pass\n",
    "\n",
    "    result = [sido, sigugun,dongmyun,lat, lng]\n",
    "\n",
    "    return result"
   ]
  },
  {
   "cell_type": "code",
   "execution_count": null,
   "id": "abbdc3e6",
   "metadata": {},
   "outputs": [],
   "source": [
    "df_geo = df.copy()\n",
    "\n",
    "for idx,addr in zip(tqdm(df.index), df.addr):\n",
    "    rst = naver_geocoding(addr)\n",
    "    df_geo.loc[idx,'sido'] = rst[0]\n",
    "    df_geo.loc[idx,'sigugun'] = rst[1]\n",
    "    df_geo.loc[idx,'dongmyun'] = rst[2]\n",
    "    df_geo.loc[idx,'lat'] = rst[3]\n",
    "    df_geo.loc[idx,'lng'] = rst[4]\n"
   ]
  },
  {
   "cell_type": "markdown",
   "id": "81217658",
   "metadata": {},
   "source": [
    "### checking - 1차\n",
    "lat, lng 값이 0인 데이터들을 선별하여 네이버 지도에 지점명으로 다시 검색, 주소를 추출한다."
   ]
  },
  {
   "cell_type": "code",
   "execution_count": null,
   "id": "1884a6d6",
   "metadata": {},
   "outputs": [],
   "source": [
    "from selenium import webdriver\n",
    "from selenium.webdriver.common.by import By\n",
    "from selenium.webdriver.common.keys import Keys\n",
    "from selenium.webdriver.support.ui import WebDriverWait\n",
    "from selenium.webdriver.support import expected_conditions as EC \n",
    "\n",
    "from tqdm.notebook import tqdm\n",
    "import time\n",
    "import requests\n",
    "from bs4 import BeautifulSoup\n",
    "import re\n",
    "import csv\n",
    "\n",
    "def GetDriver(url):\n",
    "    driver = webdriver.Chrome(\"C:\\\\data\\\\chromedriver_win32\\\\chromedriver.exe\") \n",
    "    driver.get(url)\n",
    "    \n",
    "    return driver\n",
    "\n",
    "\n",
    "def WaitBox(driver):\n",
    "    try:\n",
    "        element = WebDriverWait(driver, 10).until(\n",
    "           EC.presence_of_element_located((By.CLASS_NAME, \"Nbox_text\"))\n",
    "        ) #입력창이 뜰 때까지 대기\n",
    "    finally:\n",
    "        pass\n",
    "\n",
    "    \n",
    "def Search(driver1,keyword):\n",
    "    search_box = driver.find_element_by_xpath('//*[@id=\"header\"]/header/div[4]/div/div/div/span[1]/input')\n",
    "    search_box.click()\n",
    "    search_box.send_keys(keyword)\n",
    "    search_box.send_keys(Keys.ENTER)\n",
    "\n",
    "    \n",
    "def PageParser(driver):\n",
    "    defhtml = driver.page_source\n",
    "    defsoup = BeautifulSoup(defhtml,'html.parser') \n",
    "    \n",
    "    return defsoup\n",
    "\n",
    "\n",
    "def SearchNullGeo(df):\n",
    "    searchdf = df.copy()\n",
    "\n",
    "    url = \"https://m.map.naver.com/search2/search.naver?query=\"\n",
    "    \n",
    "    for idx in tqdm(searchdf.index, desc = '검색중 ... '):\n",
    "        keyword = f\"{searchdf.loc[idx,'brand']} {searchdf.loc[idx,'branch']}\"\n",
    "        search_url = url+keyword\n",
    "\n",
    "        try: \n",
    "            driver = GetDriver(search_url)\n",
    "\n",
    "        #     WaitBox(driver)\n",
    "            time.sleep(3)\n",
    "\n",
    "            soup = PageParser(driver)\n",
    "\n",
    "            tits = soup.find_all(\"div\", class_ = \"item_tit _title\")\n",
    "            addrs = soup.find_all(\"a\", class_ = \"item_address _btnAddress\")\n",
    "\n",
    "            if len(tits) > 0 : \n",
    "                re_name = ''\n",
    "                re_addr = ''\n",
    "\n",
    "                srch_name = re.sub('도넛|카페|아이스크림|베이커리','',tits[0].text)\n",
    "                re_addr = re.sub('주소보기','',addrs[0].text)\n",
    "                re_addr = re_addr[re.search('\\w',re_addr).start():]\n",
    "\n",
    "                searchdf.loc[idx,'search_name'] = srch_name\n",
    "                searchdf.loc[idx,'addr'] = re_addr\n",
    "            else:\n",
    "                print(f'[No result found] index: {idx}, keyword : {keyword}')\n",
    "\n",
    "        except:\n",
    "            print(f'[FAIL] index: {idx}, keyword : {keyword}')\n",
    "            continue\n",
    "\n",
    "    driver.quit()\n",
    "\n",
    "    print('Done')\n",
    "    \n",
    "    return searchdf"
   ]
  },
  {
   "cell_type": "code",
   "execution_count": null,
   "id": "e4b0c7ab",
   "metadata": {},
   "outputs": [],
   "source": [
    "df_cc1 = SearchNullGeo(df_geo[(df_geo.lat == 0)|(df_geo.lng == 0)])"
   ]
  },
  {
   "cell_type": "code",
   "execution_count": null,
   "id": "f021021d",
   "metadata": {},
   "outputs": [],
   "source": [
    "pd.set_option('display.max_rows',None) # 모든 행 열기\n",
    "\n",
    "df_cc1   # branch랑 search_name 체크"
   ]
  },
  {
   "cell_type": "code",
   "execution_count": null,
   "id": "f43e24d3",
   "metadata": {},
   "outputs": [],
   "source": [
    "# 데이터 수정\n",
    "\n",
    "## branch\n",
    "df_cc1['branch'][(df_cc1.branch =='청주엘지로DT')&(df_cc1.brand == '파스쿠찌')] = '청주엘지로DT점'\n",
    "df_cc1['branch'][(df_cc1.branch =='김천휴게소(하)')&(df_cc1.brand == '파스쿠찌')] = '김천휴게소(부산방향)점'\n",
    "df_cc1['branch'][(df_cc1.branch =='김천휴게소(상)')&(df_cc1.brand == '파스쿠찌')] = '김천휴게소(서울방향)점'\n",
    "df_cc1['branch'][(df_cc1.branch =='시화나래휴게소 2호점')&(df_cc1.brand == '파스쿠찌')] = '시화나래휴게소점'\n",
    "df_cc1['branch'][(df_cc1.branch =='서하남휴게소점')&(df_cc1.brand == '던킨')] = '서하남휴게소'\n",
    "df_cc1['branch'][(df_cc1.branch =='청주주성점')&(df_cc1.brand == '배스킨라빈스')] = '청주주성'\n",
    "\n",
    "## addr\n",
    "df_cc1['search_name'][(df_cc1.branch == '용인기흥')&(df_cc1.brand == '파리바게뜨')] = '용인기흥점'\n",
    "df_cc1['addr'][(df_cc1.branch == '용인기흥점')&(df_cc1.brand == '파리바게뜨')] = '경기 용인시 기흥구 덕영대로2077번길 16'\n",
    "\n",
    "df_cc1['addr'][(df_cc1.branch == '대유 몽베르CC')&(df_cc1.brand == '파리바게뜨')] = '경기도 포천시 영북면 산정호수로 359-12'\n",
    "df_cc1['addr'][(df_cc1.branch == '염창3호')&(df_cc1.brand == '파리바게뜨')]  = '서울특별시 강서구 양천로 657'"
   ]
  },
  {
   "cell_type": "code",
   "execution_count": null,
   "id": "1b3d0449",
   "metadata": {},
   "outputs": [],
   "source": [
    "df_cc1_re = SearchNullGeo(df_cc1[df_cc1.search_name.isnull()])"
   ]
  },
  {
   "cell_type": "markdown",
   "id": "7c42cb77",
   "metadata": {},
   "source": [
    "### checking - 2차"
   ]
  },
  {
   "cell_type": "code",
   "execution_count": null,
   "id": "3b003e57",
   "metadata": {},
   "outputs": [],
   "source": [
    "# 데이터 수정반영\n",
    "\n",
    "def ChangeInfo(df_1, df_2, search_name_option):\n",
    "    \n",
    "    for idx in tqdm(df_2.index):\n",
    "        df_1.loc[idx,'addr'] = df_2.loc[idx,'addr']\n",
    "        df_1.loc[idx,'sido'] = df_2.loc[idx,'sido']\n",
    "        df_1.loc[idx,'sigugun'] = df_2.loc[idx,'sigugun']\n",
    "        df_1.loc[idx,'dongmyun'] = df_2.loc[idx,'dongmyun']\n",
    "        df_1.loc[idx,'lat'] = df_2.loc[idx,'lat']\n",
    "        df_1.loc[idx,'lng'] = df_2.loc[idx,'lng']\n",
    "        \n",
    "        if search_name_option == True:\n",
    "            if str(df_2.loc[idx,'search_name']) == \"nan\" :\n",
    "                df_1.loc[idx,'branch'] = df_2.loc[idx,'branch']\n",
    "            else:\n",
    "                br = str(df_2.loc[idx,'search_name'])\n",
    "                df_1.loc[idx,'branch'] = br[br.find(' ')+1:]\n",
    "        else:\n",
    "            continue"
   ]
  },
  {
   "cell_type": "code",
   "execution_count": null,
   "id": "da0cca4c",
   "metadata": {},
   "outputs": [],
   "source": [
    "ChangeInfo(df_geo, df_cc1, True)\n",
    "ChangeInfo(df_geo, df_cc1_re, True)"
   ]
  },
  {
   "cell_type": "markdown",
   "id": "cda5935d",
   "metadata": {},
   "source": [
    "## geocoding - 2차"
   ]
  },
  {
   "cell_type": "code",
   "execution_count": null,
   "id": "7e6bb97f",
   "metadata": {},
   "outputs": [],
   "source": [
    "df_cc2 = df_geo[df_geo.lat == 0] # 위경도 찾지 못한 정보만 다시 돌림\n",
    "df_cc2\n",
    "\n",
    "for idx, addr in zip(tqdm(df_cc2.index),df_cc2.addr):\n",
    "    \n",
    "    rst = naver_geocoding(addr)\n",
    "\n",
    "    df_geo.loc[idx, 'sido'] = rst[0]\n",
    "    df_geo.loc[idx,'sigugun'] = rst[1]\n",
    "    df_geo.loc[idx,'dongmyun'] = rst[2]\n",
    "    df_geo.loc[idx, 'lat'] = rst[3]\n",
    "    df_geo.loc[idx,'lng'] = rst[4]\n",
    "    \n",
    "print(\"Done\")"
   ]
  },
  {
   "cell_type": "markdown",
   "id": "7cb2133f",
   "metadata": {},
   "source": [
    "### checking - 3차\n",
    "\n",
    "결측치 주소는 주소정보누리집 홈페이지(https://www.juso.go.kr/openIndexPage.do)에서 검색 후 업데이트"
   ]
  },
  {
   "cell_type": "code",
   "execution_count": null,
   "id": "9714d3b8",
   "metadata": {},
   "outputs": [],
   "source": [
    "df_cc3 = df_geo[df_geo.dongmyun == 0]"
   ]
  },
  {
   "cell_type": "code",
   "execution_count": null,
   "id": "e290414c",
   "metadata": {},
   "outputs": [],
   "source": [
    "'''\n",
    "\"오포읍\"이 들어간 주소 전부 오류 -> 도로명주소로 입력시 오포읍 기재 필요 없음\n",
    "다른 주소지의 경우 주소정보누리집이 변환해준 주소로 수정\n",
    "'''\n",
    "# 오포읍 수정\n",
    "df_cc3.addr = df_cc3.addr.apply(lambda x: re.sub('오포읍','', str(x)))\n",
    "\n",
    "# 주소 수정\n",
    "df_cc3['addr'][df_cc3.branch == '창원시티세븐점'] = '경상남도 창원시 성산구 원이대로 320'\n",
    "df_cc3['addr'][df_cc3.branch == '시흥휴게소점'] = '경기도 시흥시 수도권제1순환고속도로 105'\n",
    "df_cc3['addr'][df_cc3.branch == '영통힐스테이트점'] = '경기도 수원시 영통구 망포로 142'\n",
    "df_cc3['addr'][df_cc3.branch == '고덕로데오점'] = '경기도 평택시 고덕갈평5길 32'\n",
    "df_cc3['addr'][df_cc3.branch == '을지로3가역점'] = '서울특별시 중구 을지로3가 282-8 을지로3구역지하쇼핑'\n",
    "\n",
    "df_cc3"
   ]
  },
  {
   "cell_type": "markdown",
   "id": "6fa3615a",
   "metadata": {},
   "source": [
    "## geocoding - 3차"
   ]
  },
  {
   "cell_type": "code",
   "execution_count": null,
   "id": "a4ee2756",
   "metadata": {},
   "outputs": [],
   "source": [
    "for idx,addr in zip(tqdm(df_cc3.index), df_cc3.addr):\n",
    "    \n",
    "    rst = naver_geocoding(addr)\n",
    "    \n",
    "    df_geo.loc[idx,'addr'] = addr  # 주소 변경\n",
    "    \n",
    "    df_geo.loc[idx,'sido'] = rst[0]\n",
    "    df_geo.loc[idx,'sigugun'] = rst[1]\n",
    "    df_geo.loc[idx,'dongmyun'] = rst[2]\n",
    "    df_geo.loc[idx,'lat'] = rst[3]\n",
    "    df_geo.loc[idx,'lng'] = rst[4]"
   ]
  },
  {
   "cell_type": "markdown",
   "id": "341628ce",
   "metadata": {},
   "source": [
    "# Save"
   ]
  },
  {
   "cell_type": "code",
   "execution_count": null,
   "id": "2a7bd71f",
   "metadata": {},
   "outputs": [],
   "source": [
    "df_geo.to_csv(\"c:\\\\spc\\\\spc_geo_final_230222.csv\", index = False)"
   ]
  }
 ],
 "metadata": {
  "kernelspec": {
   "display_name": "Python 3 (ipykernel)",
   "language": "python",
   "name": "python3"
  },
  "language_info": {
   "codemirror_mode": {
    "name": "ipython",
    "version": 3
   },
   "file_extension": ".py",
   "mimetype": "text/x-python",
   "name": "python",
   "nbconvert_exporter": "python",
   "pygments_lexer": "ipython3",
   "version": "3.9.7"
  },
  "toc": {
   "base_numbering": 1,
   "nav_menu": {},
   "number_sections": true,
   "sideBar": true,
   "skip_h1_title": false,
   "title_cell": "Table of Contents",
   "title_sidebar": "Contents",
   "toc_cell": false,
   "toc_position": {
    "height": "calc(100% - 180px)",
    "left": "10px",
    "top": "150px",
    "width": "194px"
   },
   "toc_section_display": true,
   "toc_window_display": true
  }
 },
 "nbformat": 4,
 "nbformat_minor": 5
}
